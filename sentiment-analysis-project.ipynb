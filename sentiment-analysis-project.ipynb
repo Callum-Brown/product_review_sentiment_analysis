{
 "cells": [
  {
   "cell_type": "code",
   "execution_count": null,
   "metadata": {
    "_cell_guid": "b1076dfc-b9ad-4769-8c92-a6c4dae69d19",
    "_uuid": "8f2839f25d086af736a60e9eeb907d3b93b6e0e5",
    "execution": {
     "iopub.execute_input": "2024-01-09T00:45:32.175378Z",
     "iopub.status.busy": "2024-01-09T00:45:32.174880Z",
     "iopub.status.idle": "2024-01-09T00:45:32.183749Z",
     "shell.execute_reply": "2024-01-09T00:45:32.182597Z",
     "shell.execute_reply.started": "2024-01-09T00:45:32.175341Z"
    },
    "trusted": true
   },
   "outputs": [
    {
     "ename": "",
     "evalue": "",
     "output_type": "error",
     "traceback": [
      "\u001b[1;31mThe kernel failed to start as the Python Environment '.conda (Python 3.11.11)' is no longer available. Consider selecting another kernel or refreshing the list of Python Environments."
     ]
    }
   ],
   "source": [
    "# This Python 3 environment comes with many helpful analytics libraries installed\n",
    "# It is defined by the kaggle/python Docker image: https://github.com/kaggle/docker-python\n",
    "# For example, here's several helpful packages to load\n",
    "\n",
    "import numpy as np # linear algebra\n",
    "import pandas as pd # data processing, CSV file I/O (e.g. pd.read_csv)\n",
    "\n",
    "# Input data files are available in the read-only \"../input/\" directory\n",
    "# For example, running this (by clicking run or pressing Shift+Enter) will list all files under the input directory\n",
    "\n",
    "import os\n",
    "for dirname, _, filenames in os.walk('Datafiniti_Amazon_Consumer_Reviews_of_Amazon_Products_May19.csv'):\n",
    "    for filename in filenames:\n",
    "        print(os.path.join(dirname, filename))\n",
    "\n",
    "# You can write up to 20GB to the current directory (/kaggle/working/) that gets preserved as output when you create a version using \"Save & Run All\" \n",
    "# You can also write temporary files to /kaggle/temp/, but they won't be saved outside of the current session"
   ]
  },
  {
   "cell_type": "code",
   "execution_count": null,
   "metadata": {
    "execution": {
     "iopub.execute_input": "2024-01-09T01:49:51.901849Z",
     "iopub.status.busy": "2024-01-09T01:49:51.901107Z",
     "iopub.status.idle": "2024-01-09T01:49:51.910219Z",
     "shell.execute_reply": "2024-01-09T01:49:51.909047Z",
     "shell.execute_reply.started": "2024-01-09T01:49:51.901808Z"
    },
    "trusted": true
   },
   "outputs": [],
   "source": [
    "# Import relevant libraries\n",
    "import nltk\n",
    "\n",
    "from nltk.stem import SnowballStemmer\n",
    "from nltk.sentiment.vader import SentimentIntensityAnalyzer\n",
    "from nltk.tokenize import word_tokenize\n",
    "from nltk.corpus import twitter_samples, stopwords\n",
    "from nltk.tag import pos_tag\n",
    "from nltk.tokenize import word_tokenize\n",
    "from nltk import FreqDist, classify, NaiveBayesClassifier\n",
    "\n",
    "nltk.download('wordnet')\n",
    "\n",
    "import re, string, random\n",
    "import csv\n"
   ]
  },
  {
   "cell_type": "markdown",
   "metadata": {},
   "source": []
  },
  {
   "cell_type": "code",
   "execution_count": null,
   "metadata": {
    "execution": {
     "iopub.execute_input": "2024-01-09T01:49:43.403916Z",
     "iopub.status.busy": "2024-01-09T01:49:43.403488Z",
     "iopub.status.idle": "2024-01-09T01:49:43.411389Z",
     "shell.execute_reply": "2024-01-09T01:49:43.410181Z",
     "shell.execute_reply.started": "2024-01-09T01:49:43.403882Z"
    },
    "trusted": true
   },
   "outputs": [],
   "source": [
    "# define function remove noise, this function takes a list of tokens and removes words\n",
    "# that don't contribute to the overall sentiment of the text, connecting and filler words.\n",
    "# create preprocess_text function\n",
    "def remove_noise(text):\n",
    "\n",
    "    # Tokenize the text\n",
    "    tokens = word_tokenize(text.lower())\n",
    "\n",
    "    # Remove stop words\n",
    "    filtered_tokens = [token for token in tokens if token not in stopwords.words('english')]\n",
    "\n",
    "    mystem = SnowballStemmer(\"english\")\n",
    "\n",
    "    # stem the tokens\n",
    "    stemmed_tokens = [mystem.stem(token) for token in filtered_tokens]\n",
    "\n",
    "    # Join the tokens back into a string\n",
    "    processed_text = ' '.join(stemmed_tokens)\n",
    "\n",
    "    return processed_text\n",
    "\n"
   ]
  },
  {
   "cell_type": "code",
   "execution_count": null,
   "metadata": {
    "execution": {
     "iopub.execute_input": "2024-01-09T01:49:54.890540Z",
     "iopub.status.busy": "2024-01-09T01:49:54.890124Z",
     "iopub.status.idle": "2024-01-09T01:49:57.239895Z",
     "shell.execute_reply": "2024-01-09T01:49:57.238696Z",
     "shell.execute_reply.started": "2024-01-09T01:49:54.890509Z"
    },
    "trusted": true
   },
   "outputs": [],
   "source": [
    "# import the training data set\n",
    "df = pd.read_csv(\"/kaggle/input/amazon-customer-reviews/Datafiniti_Amazon_Consumer_Reviews_of_Amazon_Products_May19.csv\")\n",
    "\n",
    "# define stop_words to remove from reviews\n",
    "stop_words = stopwords.words('english')\n",
    "\n",
    "# remove noise from text reviews\n",
    "df['reviews.text'] = df['reviews.text'].apply(remove_noise)\n",
    "\n",
    "# seperate the df into positive and negative reviews \n",
    "pos_rev =  df.loc[df['reviews.rating'] > 2] \n",
    "neg_rev = df.loc[df['reviews.rating'] <= 2] \n",
    "text = df['reviews.text']"
   ]
  },
  {
   "cell_type": "code",
   "execution_count": null,
   "metadata": {
    "execution": {
     "iopub.execute_input": "2024-01-09T01:50:14.313178Z",
     "iopub.status.busy": "2024-01-09T01:50:14.312333Z",
     "iopub.status.idle": "2024-01-09T01:50:14.327908Z",
     "shell.execute_reply": "2024-01-09T01:50:14.326698Z",
     "shell.execute_reply.started": "2024-01-09T01:50:14.313134Z"
    },
    "trusted": true
   },
   "outputs": [],
   "source": [
    "# Create negative and positive dataset\n",
    "positive_dataset = pd.DataFrame()\n",
    "negative_dataset = pd.DataFrame()\n",
    "\n",
    "# load dataset with positive reviews and attached positive string to each\n",
    "positive_dataset['reviews.text'] = pos_rev['reviews.text']\n",
    "positive_dataset['sentiment'] = 'Positive'\n",
    "\n",
    "# load dataset with negative reviews and attached negative string to each\n",
    "negative_dataset['reviews.text'] = neg_rev['reviews.text']\n",
    "negative_dataset['sentiment'] = 'Negative'\n",
    "\n",
    "print(negative_dataset.head())"
   ]
  },
  {
   "cell_type": "code",
   "execution_count": null,
   "metadata": {
    "execution": {
     "iopub.execute_input": "2024-01-09T01:50:17.308977Z",
     "iopub.status.busy": "2024-01-09T01:50:17.308580Z",
     "iopub.status.idle": "2024-01-09T01:50:17.365528Z",
     "shell.execute_reply": "2024-01-09T01:50:17.364455Z",
     "shell.execute_reply.started": "2024-01-09T01:50:17.308945Z"
    },
    "trusted": true
   },
   "outputs": [],
   "source": [
    "# create main data set\n",
    "dataset = pd.concat([positive_dataset, negative_dataset])\n",
    "\n",
    "# Shuffle the data\n",
    "dataset = dataset.sample(frac = 1)\n",
    "\n",
    "# initialize NLTK sentiment analyzer\n",
    "\n",
    "analyzer = SentimentIntensityAnalyzer()\n",
    "\n",
    "# create get_sentiment function\n",
    "\n",
    "def get_sentiment(text):\n",
    "\n",
    "    scores = analyzer.polarity_scores(text)\n",
    "    if scores['pos'] > 0:\n",
    "        sentiment = 'positive'\n",
    "    else:\n",
    "        sentiment = 'negative'\n",
    "\n",
    "    return sentiment\n",
    "\n",
    "\n",
    "# apply get_sentiment function\n",
    "dataset['sentiment'] = dataset['reviews.text'].apply(get_sentiment)\n",
    "\n",
    "# write out the dataset to csv\n",
    "dataset.to_csv(\"predicted_sentiment.csv\", index=False)\n",
    "\n"
   ]
  }
 ],
 "metadata": {
  "kaggle": {
   "accelerator": "none",
   "dataSources": [
    {
     "datasetId": 4278926,
     "sourceId": 7365532,
     "sourceType": "datasetVersion"
    }
   ],
   "dockerImageVersionId": 30626,
   "isGpuEnabled": false,
   "isInternetEnabled": true,
   "language": "python",
   "sourceType": "notebook"
  },
  "kernelspec": {
   "display_name": "base",
   "language": "python",
   "name": "python3"
  },
  "language_info": {
   "codemirror_mode": {
    "name": "ipython",
    "version": 3
   },
   "file_extension": ".py",
   "mimetype": "text/x-python",
   "name": "python",
   "nbconvert_exporter": "python",
   "pygments_lexer": "ipython3",
   "version": "3.12.7"
  }
 },
 "nbformat": 4,
 "nbformat_minor": 4
}
